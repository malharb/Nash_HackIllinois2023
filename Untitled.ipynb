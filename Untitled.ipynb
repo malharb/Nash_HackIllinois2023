{
 "cells": [
  {
   "cell_type": "code",
   "execution_count": 1,
   "id": "2db6eef4",
   "metadata": {},
   "outputs": [],
   "source": [
    "import pandas as pd\n",
    "import numpy as np\n",
    "import seaborn as sns\n",
    "import matplotlib.pyplot as plt\n",
    "%matplotlib inline"
   ]
  },
  {
   "cell_type": "code",
   "execution_count": 2,
   "id": "1ace0cbd",
   "metadata": {},
   "outputs": [],
   "source": [
    "#WORKING WITH PATIENT ONE"
   ]
  },
  {
   "cell_type": "code",
   "execution_count": 3,
   "id": "d75ef10a",
   "metadata": {},
   "outputs": [],
   "source": [
    "df = pd.read_csv(\"/Users/malharbhide/Documents/nash/psykose/patient/patient_1.csv\")\n",
    "df2 = pd.read_csv(\"/Users/malharbhide/Documents/nash/psykose/control/control_1.csv\")"
   ]
  },
  {
   "cell_type": "code",
   "execution_count": 6,
   "id": "dbcb8cbf",
   "metadata": {},
   "outputs": [
    {
     "ename": "KeyboardInterrupt",
     "evalue": "",
     "output_type": "error",
     "traceback": [
      "\u001b[0;31m---------------------------------------------------------------------------\u001b[0m",
      "\u001b[0;31mKeyboardInterrupt\u001b[0m                         Traceback (most recent call last)",
      "Input \u001b[0;32mIn [6]\u001b[0m, in \u001b[0;36m<cell line: 2>\u001b[0;34m()\u001b[0m\n\u001b[1;32m      1\u001b[0m fig,ax \u001b[38;5;241m=\u001b[39m plt\u001b[38;5;241m.\u001b[39msubplots(dpi \u001b[38;5;241m=\u001b[39m \u001b[38;5;241m100\u001b[39m)\n\u001b[0;32m----> 2\u001b[0m \u001b[43msns\u001b[49m\u001b[38;5;241;43m.\u001b[39;49m\u001b[43mbarplot\u001b[49m\u001b[43m(\u001b[49m\u001b[43mx\u001b[49m\u001b[43m \u001b[49m\u001b[38;5;241;43m=\u001b[39;49m\u001b[43m \u001b[49m\u001b[38;5;124;43m\"\u001b[39;49m\u001b[38;5;124;43mtimestamp\u001b[39;49m\u001b[38;5;124;43m\"\u001b[39;49m\u001b[43m,\u001b[49m\u001b[43m \u001b[49m\u001b[43my\u001b[49m\u001b[43m \u001b[49m\u001b[38;5;241;43m=\u001b[39;49m\u001b[43m \u001b[49m\u001b[38;5;124;43m\"\u001b[39;49m\u001b[38;5;124;43mactivity\u001b[39;49m\u001b[38;5;124;43m\"\u001b[39;49m\u001b[43m,\u001b[49m\u001b[43m \u001b[49m\u001b[43mdata\u001b[49m\u001b[43m \u001b[49m\u001b[38;5;241;43m=\u001b[39;49m\u001b[43m \u001b[49m\u001b[43mdf2\u001b[49m\u001b[43m,\u001b[49m\u001b[43m \u001b[49m\u001b[43max\u001b[49m\u001b[43m \u001b[49m\u001b[38;5;241;43m=\u001b[39;49m\u001b[43m \u001b[49m\u001b[43max\u001b[49m\u001b[43m)\u001b[49m\n\u001b[1;32m      3\u001b[0m plt\u001b[38;5;241m.\u001b[39mxticks([])\n",
      "File \u001b[0;32m~/opt/anaconda3/lib/python3.9/site-packages/seaborn/_decorators.py:46\u001b[0m, in \u001b[0;36m_deprecate_positional_args.<locals>.inner_f\u001b[0;34m(*args, **kwargs)\u001b[0m\n\u001b[1;32m     36\u001b[0m     warnings\u001b[38;5;241m.\u001b[39mwarn(\n\u001b[1;32m     37\u001b[0m         \u001b[38;5;124m\"\u001b[39m\u001b[38;5;124mPass the following variable\u001b[39m\u001b[38;5;132;01m{}\u001b[39;00m\u001b[38;5;124m as \u001b[39m\u001b[38;5;132;01m{}\u001b[39;00m\u001b[38;5;124mkeyword arg\u001b[39m\u001b[38;5;132;01m{}\u001b[39;00m\u001b[38;5;124m: \u001b[39m\u001b[38;5;132;01m{}\u001b[39;00m\u001b[38;5;124m. \u001b[39m\u001b[38;5;124m\"\u001b[39m\n\u001b[1;32m     38\u001b[0m         \u001b[38;5;124m\"\u001b[39m\u001b[38;5;124mFrom version 0.12, the only valid positional argument \u001b[39m\u001b[38;5;124m\"\u001b[39m\n\u001b[0;32m   (...)\u001b[0m\n\u001b[1;32m     43\u001b[0m         \u001b[38;5;167;01mFutureWarning\u001b[39;00m\n\u001b[1;32m     44\u001b[0m     )\n\u001b[1;32m     45\u001b[0m kwargs\u001b[38;5;241m.\u001b[39mupdate({k: arg \u001b[38;5;28;01mfor\u001b[39;00m k, arg \u001b[38;5;129;01min\u001b[39;00m \u001b[38;5;28mzip\u001b[39m(sig\u001b[38;5;241m.\u001b[39mparameters, args)})\n\u001b[0;32m---> 46\u001b[0m \u001b[38;5;28;01mreturn\u001b[39;00m \u001b[43mf\u001b[49m\u001b[43m(\u001b[49m\u001b[38;5;241;43m*\u001b[39;49m\u001b[38;5;241;43m*\u001b[39;49m\u001b[43mkwargs\u001b[49m\u001b[43m)\u001b[49m\n",
      "File \u001b[0;32m~/opt/anaconda3/lib/python3.9/site-packages/seaborn/categorical.py:3182\u001b[0m, in \u001b[0;36mbarplot\u001b[0;34m(x, y, hue, data, order, hue_order, estimator, ci, n_boot, units, seed, orient, color, palette, saturation, errcolor, errwidth, capsize, dodge, ax, **kwargs)\u001b[0m\n\u001b[1;32m   3169\u001b[0m \u001b[38;5;129m@_deprecate_positional_args\u001b[39m\n\u001b[1;32m   3170\u001b[0m \u001b[38;5;28;01mdef\u001b[39;00m \u001b[38;5;21mbarplot\u001b[39m(\n\u001b[1;32m   3171\u001b[0m     \u001b[38;5;241m*\u001b[39m,\n\u001b[0;32m   (...)\u001b[0m\n\u001b[1;32m   3179\u001b[0m     \u001b[38;5;241m*\u001b[39m\u001b[38;5;241m*\u001b[39mkwargs,\n\u001b[1;32m   3180\u001b[0m ):\n\u001b[0;32m-> 3182\u001b[0m     plotter \u001b[38;5;241m=\u001b[39m \u001b[43m_BarPlotter\u001b[49m\u001b[43m(\u001b[49m\u001b[43mx\u001b[49m\u001b[43m,\u001b[49m\u001b[43m \u001b[49m\u001b[43my\u001b[49m\u001b[43m,\u001b[49m\u001b[43m \u001b[49m\u001b[43mhue\u001b[49m\u001b[43m,\u001b[49m\u001b[43m \u001b[49m\u001b[43mdata\u001b[49m\u001b[43m,\u001b[49m\u001b[43m \u001b[49m\u001b[43morder\u001b[49m\u001b[43m,\u001b[49m\u001b[43m \u001b[49m\u001b[43mhue_order\u001b[49m\u001b[43m,\u001b[49m\n\u001b[1;32m   3183\u001b[0m \u001b[43m                          \u001b[49m\u001b[43mestimator\u001b[49m\u001b[43m,\u001b[49m\u001b[43m \u001b[49m\u001b[43mci\u001b[49m\u001b[43m,\u001b[49m\u001b[43m \u001b[49m\u001b[43mn_boot\u001b[49m\u001b[43m,\u001b[49m\u001b[43m \u001b[49m\u001b[43munits\u001b[49m\u001b[43m,\u001b[49m\u001b[43m \u001b[49m\u001b[43mseed\u001b[49m\u001b[43m,\u001b[49m\n\u001b[1;32m   3184\u001b[0m \u001b[43m                          \u001b[49m\u001b[43morient\u001b[49m\u001b[43m,\u001b[49m\u001b[43m \u001b[49m\u001b[43mcolor\u001b[49m\u001b[43m,\u001b[49m\u001b[43m \u001b[49m\u001b[43mpalette\u001b[49m\u001b[43m,\u001b[49m\u001b[43m \u001b[49m\u001b[43msaturation\u001b[49m\u001b[43m,\u001b[49m\n\u001b[1;32m   3185\u001b[0m \u001b[43m                          \u001b[49m\u001b[43merrcolor\u001b[49m\u001b[43m,\u001b[49m\u001b[43m \u001b[49m\u001b[43merrwidth\u001b[49m\u001b[43m,\u001b[49m\u001b[43m \u001b[49m\u001b[43mcapsize\u001b[49m\u001b[43m,\u001b[49m\u001b[43m \u001b[49m\u001b[43mdodge\u001b[49m\u001b[43m)\u001b[49m\n\u001b[1;32m   3187\u001b[0m     \u001b[38;5;28;01mif\u001b[39;00m ax \u001b[38;5;129;01mis\u001b[39;00m \u001b[38;5;28;01mNone\u001b[39;00m:\n\u001b[1;32m   3188\u001b[0m         ax \u001b[38;5;241m=\u001b[39m plt\u001b[38;5;241m.\u001b[39mgca()\n",
      "File \u001b[0;32m~/opt/anaconda3/lib/python3.9/site-packages/seaborn/categorical.py:1587\u001b[0m, in \u001b[0;36m_BarPlotter.__init__\u001b[0;34m(self, x, y, hue, data, order, hue_order, estimator, ci, n_boot, units, seed, orient, color, palette, saturation, errcolor, errwidth, capsize, dodge)\u001b[0m\n\u001b[1;32m   1584\u001b[0m \u001b[38;5;28mself\u001b[39m\u001b[38;5;241m.\u001b[39mestablish_variables(x, y, hue, data, orient,\n\u001b[1;32m   1585\u001b[0m                          order, hue_order, units)\n\u001b[1;32m   1586\u001b[0m \u001b[38;5;28mself\u001b[39m\u001b[38;5;241m.\u001b[39mestablish_colors(color, palette, saturation)\n\u001b[0;32m-> 1587\u001b[0m \u001b[38;5;28;43mself\u001b[39;49m\u001b[38;5;241;43m.\u001b[39;49m\u001b[43mestimate_statistic\u001b[49m\u001b[43m(\u001b[49m\u001b[43mestimator\u001b[49m\u001b[43m,\u001b[49m\u001b[43m \u001b[49m\u001b[43mci\u001b[49m\u001b[43m,\u001b[49m\u001b[43m \u001b[49m\u001b[43mn_boot\u001b[49m\u001b[43m,\u001b[49m\u001b[43m \u001b[49m\u001b[43mseed\u001b[49m\u001b[43m)\u001b[49m\n\u001b[1;32m   1589\u001b[0m \u001b[38;5;28mself\u001b[39m\u001b[38;5;241m.\u001b[39mdodge \u001b[38;5;241m=\u001b[39m dodge\n\u001b[1;32m   1591\u001b[0m \u001b[38;5;28mself\u001b[39m\u001b[38;5;241m.\u001b[39merrcolor \u001b[38;5;241m=\u001b[39m errcolor\n",
      "File \u001b[0;32m~/opt/anaconda3/lib/python3.9/site-packages/seaborn/categorical.py:1457\u001b[0m, in \u001b[0;36m_CategoricalStatPlotter.estimate_statistic\u001b[0;34m(self, estimator, ci, n_boot, seed)\u001b[0m\n\u001b[1;32m   1454\u001b[0m \u001b[38;5;28;01mif\u001b[39;00m \u001b[38;5;28mself\u001b[39m\u001b[38;5;241m.\u001b[39mplot_hues \u001b[38;5;129;01mis\u001b[39;00m \u001b[38;5;28;01mNone\u001b[39;00m:\n\u001b[1;32m   1456\u001b[0m     \u001b[38;5;28;01mif\u001b[39;00m \u001b[38;5;28mself\u001b[39m\u001b[38;5;241m.\u001b[39mplot_units \u001b[38;5;129;01mis\u001b[39;00m \u001b[38;5;28;01mNone\u001b[39;00m:\n\u001b[0;32m-> 1457\u001b[0m         stat_data \u001b[38;5;241m=\u001b[39m \u001b[43mremove_na\u001b[49m\u001b[43m(\u001b[49m\u001b[43mgroup_data\u001b[49m\u001b[43m)\u001b[49m\n\u001b[1;32m   1458\u001b[0m         unit_data \u001b[38;5;241m=\u001b[39m \u001b[38;5;28;01mNone\u001b[39;00m\n\u001b[1;32m   1459\u001b[0m     \u001b[38;5;28;01melse\u001b[39;00m:\n",
      "File \u001b[0;32m~/opt/anaconda3/lib/python3.9/site-packages/seaborn/utils.py:209\u001b[0m, in \u001b[0;36mremove_na\u001b[0;34m(vector)\u001b[0m\n\u001b[1;32m    195\u001b[0m \u001b[38;5;28;01mdef\u001b[39;00m \u001b[38;5;21mremove_na\u001b[39m(vector):\n\u001b[1;32m    196\u001b[0m     \u001b[38;5;124;03m\"\"\"Helper method for removing null values from data vectors.\u001b[39;00m\n\u001b[1;32m    197\u001b[0m \n\u001b[1;32m    198\u001b[0m \u001b[38;5;124;03m    Parameters\u001b[39;00m\n\u001b[0;32m   (...)\u001b[0m\n\u001b[1;32m    207\u001b[0m \n\u001b[1;32m    208\u001b[0m \u001b[38;5;124;03m    \"\"\"\u001b[39;00m\n\u001b[0;32m--> 209\u001b[0m     \u001b[38;5;28;01mreturn\u001b[39;00m vector[\u001b[43mpd\u001b[49m\u001b[38;5;241;43m.\u001b[39;49m\u001b[43mnotnull\u001b[49m\u001b[43m(\u001b[49m\u001b[43mvector\u001b[49m\u001b[43m)\u001b[49m]\n",
      "File \u001b[0;32m~/opt/anaconda3/lib/python3.9/site-packages/pandas/core/dtypes/missing.py:364\u001b[0m, in \u001b[0;36mnotna\u001b[0;34m(obj)\u001b[0m\n\u001b[1;32m    287\u001b[0m \u001b[38;5;28;01mdef\u001b[39;00m \u001b[38;5;21mnotna\u001b[39m(obj):\n\u001b[1;32m    288\u001b[0m     \u001b[38;5;124;03m\"\"\"\u001b[39;00m\n\u001b[1;32m    289\u001b[0m \u001b[38;5;124;03m    Detect non-missing values for an array-like object.\u001b[39;00m\n\u001b[1;32m    290\u001b[0m \n\u001b[0;32m   (...)\u001b[0m\n\u001b[1;32m    362\u001b[0m \u001b[38;5;124;03m    Name: 1, dtype: bool\u001b[39;00m\n\u001b[1;32m    363\u001b[0m \u001b[38;5;124;03m    \"\"\"\u001b[39;00m\n\u001b[0;32m--> 364\u001b[0m     res \u001b[38;5;241m=\u001b[39m \u001b[43misna\u001b[49m\u001b[43m(\u001b[49m\u001b[43mobj\u001b[49m\u001b[43m)\u001b[49m\n\u001b[1;32m    365\u001b[0m     \u001b[38;5;28;01mif\u001b[39;00m is_scalar(res):\n\u001b[1;32m    366\u001b[0m         \u001b[38;5;28;01mreturn\u001b[39;00m \u001b[38;5;129;01mnot\u001b[39;00m res\n",
      "File \u001b[0;32m~/opt/anaconda3/lib/python3.9/site-packages/pandas/core/dtypes/missing.py:143\u001b[0m, in \u001b[0;36misna\u001b[0;34m(obj)\u001b[0m\n\u001b[1;32m     66\u001b[0m \u001b[38;5;28;01mdef\u001b[39;00m \u001b[38;5;21misna\u001b[39m(obj):\n\u001b[1;32m     67\u001b[0m     \u001b[38;5;124;03m\"\"\"\u001b[39;00m\n\u001b[1;32m     68\u001b[0m \u001b[38;5;124;03m    Detect missing values for an array-like object.\u001b[39;00m\n\u001b[1;32m     69\u001b[0m \n\u001b[0;32m   (...)\u001b[0m\n\u001b[1;32m    141\u001b[0m \u001b[38;5;124;03m    Name: 1, dtype: bool\u001b[39;00m\n\u001b[1;32m    142\u001b[0m \u001b[38;5;124;03m    \"\"\"\u001b[39;00m\n\u001b[0;32m--> 143\u001b[0m     \u001b[38;5;28;01mreturn\u001b[39;00m \u001b[43m_isna\u001b[49m\u001b[43m(\u001b[49m\u001b[43mobj\u001b[49m\u001b[43m)\u001b[49m\n",
      "File \u001b[0;32m~/opt/anaconda3/lib/python3.9/site-packages/pandas/core/dtypes/missing.py:183\u001b[0m, in \u001b[0;36m_isna\u001b[0;34m(obj, inf_as_na)\u001b[0m\n\u001b[1;32m    181\u001b[0m     result \u001b[38;5;241m=\u001b[39m _isna_array(obj\u001b[38;5;241m.\u001b[39m_values, inf_as_na\u001b[38;5;241m=\u001b[39minf_as_na)\n\u001b[1;32m    182\u001b[0m     \u001b[38;5;66;03m# box\u001b[39;00m\n\u001b[0;32m--> 183\u001b[0m     result \u001b[38;5;241m=\u001b[39m \u001b[43mobj\u001b[49m\u001b[38;5;241;43m.\u001b[39;49m\u001b[43m_constructor\u001b[49m\u001b[43m(\u001b[49m\u001b[43mresult\u001b[49m\u001b[43m,\u001b[49m\u001b[43m \u001b[49m\u001b[43mindex\u001b[49m\u001b[38;5;241;43m=\u001b[39;49m\u001b[43mobj\u001b[49m\u001b[38;5;241;43m.\u001b[39;49m\u001b[43mindex\u001b[49m\u001b[43m,\u001b[49m\u001b[43m \u001b[49m\u001b[43mname\u001b[49m\u001b[38;5;241;43m=\u001b[39;49m\u001b[43mobj\u001b[49m\u001b[38;5;241;43m.\u001b[39;49m\u001b[43mname\u001b[49m\u001b[43m,\u001b[49m\u001b[43m \u001b[49m\u001b[43mcopy\u001b[49m\u001b[38;5;241;43m=\u001b[39;49m\u001b[38;5;28;43;01mFalse\u001b[39;49;00m\u001b[43m)\u001b[49m\n\u001b[1;32m    184\u001b[0m     \u001b[38;5;28;01mreturn\u001b[39;00m result\n\u001b[1;32m    185\u001b[0m \u001b[38;5;28;01melif\u001b[39;00m \u001b[38;5;28misinstance\u001b[39m(obj, ABCDataFrame):\n",
      "File \u001b[0;32m~/opt/anaconda3/lib/python3.9/site-packages/pandas/core/series.py:451\u001b[0m, in \u001b[0;36mSeries.__init__\u001b[0;34m(self, data, index, dtype, name, copy, fastpath)\u001b[0m\n\u001b[1;32m    449\u001b[0m         data \u001b[38;5;241m=\u001b[39m data\u001b[38;5;241m.\u001b[39mcopy()\n\u001b[1;32m    450\u001b[0m \u001b[38;5;28;01melse\u001b[39;00m:\n\u001b[0;32m--> 451\u001b[0m     data \u001b[38;5;241m=\u001b[39m \u001b[43msanitize_array\u001b[49m\u001b[43m(\u001b[49m\u001b[43mdata\u001b[49m\u001b[43m,\u001b[49m\u001b[43m \u001b[49m\u001b[43mindex\u001b[49m\u001b[43m,\u001b[49m\u001b[43m \u001b[49m\u001b[43mdtype\u001b[49m\u001b[43m,\u001b[49m\u001b[43m \u001b[49m\u001b[43mcopy\u001b[49m\u001b[43m)\u001b[49m\n\u001b[1;32m    453\u001b[0m     manager \u001b[38;5;241m=\u001b[39m get_option(\u001b[38;5;124m\"\u001b[39m\u001b[38;5;124mmode.data_manager\u001b[39m\u001b[38;5;124m\"\u001b[39m)\n\u001b[1;32m    454\u001b[0m     \u001b[38;5;28;01mif\u001b[39;00m manager \u001b[38;5;241m==\u001b[39m \u001b[38;5;124m\"\u001b[39m\u001b[38;5;124mblock\u001b[39m\u001b[38;5;124m\"\u001b[39m:\n",
      "File \u001b[0;32m~/opt/anaconda3/lib/python3.9/site-packages/pandas/core/construction.py:602\u001b[0m, in \u001b[0;36msanitize_array\u001b[0;34m(data, index, dtype, copy, raise_cast_failure, allow_2d)\u001b[0m\n\u001b[1;32m    598\u001b[0m subarr \u001b[38;5;241m=\u001b[39m _sanitize_ndim(subarr, data, dtype, index, allow_2d\u001b[38;5;241m=\u001b[39mallow_2d)\n\u001b[1;32m    600\u001b[0m \u001b[38;5;28;01mif\u001b[39;00m \u001b[38;5;28misinstance\u001b[39m(subarr, np\u001b[38;5;241m.\u001b[39mndarray):\n\u001b[1;32m    601\u001b[0m     \u001b[38;5;66;03m# at this point we should have dtype be None or subarr.dtype == dtype\u001b[39;00m\n\u001b[0;32m--> 602\u001b[0m     dtype \u001b[38;5;241m=\u001b[39m \u001b[43mcast\u001b[49m\u001b[43m(\u001b[49m\u001b[43mnp\u001b[49m\u001b[38;5;241;43m.\u001b[39;49m\u001b[43mdtype\u001b[49m\u001b[43m,\u001b[49m\u001b[43m \u001b[49m\u001b[43mdtype\u001b[49m\u001b[43m)\u001b[49m\n\u001b[1;32m    603\u001b[0m     subarr \u001b[38;5;241m=\u001b[39m _sanitize_str_dtypes(subarr, data, dtype, copy)\n\u001b[1;32m    605\u001b[0m \u001b[38;5;28;01mreturn\u001b[39;00m subarr\n",
      "File \u001b[0;32m~/opt/anaconda3/lib/python3.9/typing.py:1375\u001b[0m, in \u001b[0;36mcast\u001b[0;34m(typ, val)\u001b[0m\n\u001b[1;32m   1371\u001b[0m     \u001b[38;5;28mcls\u001b[39m\u001b[38;5;241m.\u001b[39m_is_runtime_protocol \u001b[38;5;241m=\u001b[39m \u001b[38;5;28;01mTrue\u001b[39;00m\n\u001b[1;32m   1372\u001b[0m     \u001b[38;5;28;01mreturn\u001b[39;00m \u001b[38;5;28mcls\u001b[39m\n\u001b[0;32m-> 1375\u001b[0m \u001b[38;5;28;01mdef\u001b[39;00m \u001b[38;5;21mcast\u001b[39m(typ, val):\n\u001b[1;32m   1376\u001b[0m     \u001b[38;5;124;03m\"\"\"Cast a value to a type.\u001b[39;00m\n\u001b[1;32m   1377\u001b[0m \n\u001b[1;32m   1378\u001b[0m \u001b[38;5;124;03m    This returns the value unchanged.  To the type checker this\u001b[39;00m\n\u001b[0;32m   (...)\u001b[0m\n\u001b[1;32m   1381\u001b[0m \u001b[38;5;124;03m    to be as fast as possible).\u001b[39;00m\n\u001b[1;32m   1382\u001b[0m \u001b[38;5;124;03m    \"\"\"\u001b[39;00m\n\u001b[1;32m   1383\u001b[0m     \u001b[38;5;28;01mreturn\u001b[39;00m val\n",
      "\u001b[0;31mKeyboardInterrupt\u001b[0m: "
     ]
    },
    {
     "data": {
      "image/png": "[encoded data removed]",
      "text/plain": [
       "<Figure size 600x400 with 1 Axes>"
      ]
     },
     "metadata": {
      "needs_background": "light"
     },
     "output_type": "display_data"
    }
   ],
   "source": [
    "fig,ax = plt.subplots(dpi = 100)\n",
    "sns.barplot(x = \"timestamp\", y = \"activity\", data = df2, ax = ax)\n",
    "plt.xticks([])"
   ]
  },
  {
   "cell_type": "code",
   "execution_count": 5,
   "id": "7c1b50ee",
   "metadata": {},
   "outputs": [
    {
     "data": {
      "text/plain": [
       "([], [])"
      ]
     },
     "execution_count": 5,
     "metadata": {},
     "output_type": "execute_result"
    },
    {
     "data": {
      "image/png": "[encoded data removed]",
      "text/plain": [
       "<Figure size 600x400 with 1 Axes>"
      ]
     },
     "metadata": {
      "needs_background": "light"
     },
     "output_type": "display_data"
    }
   ],
   "source": [
    "fig,ax = plt.subplots(dpi = 100)\n",
    "sns.barplot(x = \"timestamp\", y = \"activity\", data = df, ax = ax, )\n",
    "plt.xticks([])"
   ]
  },
  {
   "cell_type": "code",
   "execution_count": 326,
   "id": "3e3bd4b8",
   "metadata": {},
   "outputs": [],
   "source": [
    "#using an lstm "
   ]
  },
  {
   "cell_type": "code",
   "execution_count": 7,
   "id": "8f72a757",
   "metadata": {},
   "outputs": [],
   "source": [
    "from tensorflow.keras.models import Sequential\n",
    "from tensorflow.keras.layers import Dense, LSTM, Dropout"
   ]
  },
  {
   "cell_type": "code",
   "execution_count": 31,
   "id": "ad9721f0",
   "metadata": {},
   "outputs": [],
   "source": [
    "n_timesteps = 1440\n",
    "n_features = 1\n",
    "n_outputs = 1\n",
    "\n",
    "model = Sequential()\n",
    "\n",
    "model.add(LSTM(150, input_shape = (n_timesteps, n_features)))\n",
    "model.add(Dropout(0.5))\n",
    "model.add(Dense(100, activation = \"relu\"))\n",
    "model.add(Dense(25, activation = \"relu\"))\n",
    "\n",
    "model.add(Dense(n_outputs, activation = \"sigmoid\"))\n",
    "\n",
    "model.compile(loss = \"binary_crossentropy\", optimizer = \"adam\", metrics = [\"accuracy\"])"
   ]
  },
  {
   "cell_type": "code",
   "execution_count": 10,
   "id": "a4dfa38a",
   "metadata": {},
   "outputs": [],
   "source": [
    "def reading_data():\n",
    "    \n",
    "    base_url_01 = \"/Users/malharbhide/Documents/nash/psykose/patient/\"\n",
    "    df = pd.DataFrame()\n",
    "    \n",
    "    for i in range(1, 23):\n",
    "        temp_df = pd.read_csv(base_url_01 + \"patient_\" + str(i) + \".csv\")\n",
    "        unique_dates = list(temp_df[\"date\"].unique())\n",
    "        for j in unique_dates:\n",
    "            if (len(temp_df[temp_df[\"date\"] == j]) != 1440):\n",
    "                temp_df.drop(temp_df[temp_df[\"date\"] == j].index, inplace = True)\n",
    "        df = pd.concat([df, temp_df])\n",
    "        \n",
    "    base_url_02 = \"/Users/malharbhide/Documents/nash/psykose/control/\"\n",
    "        \n",
    "    for i in range(1, 33):\n",
    "        temp_df = pd.read_csv(base_url_02 + \"control_\" + str(i) + \".csv\")\n",
    "        unique_dates = list(temp_df[\"date\"].unique())\n",
    "        for j in unique_dates: \n",
    "            if (len(temp_df[temp_df[\"date\"] == j]) != 1440):\n",
    "                temp_df.drop(temp_df[temp_df[\"date\"] == j].index, inplace = True)\n",
    "        df = pd.concat([df, temp_df])\n",
    "        \n",
    "    return df"
   ]
  },
  {
   "cell_type": "code",
   "execution_count": 11,
   "id": "0cb395f7",
   "metadata": {},
   "outputs": [],
   "source": [
    "df = reading_data()"
   ]
  },
  {
   "cell_type": "code",
   "execution_count": 14,
   "id": "0291ea34",
   "metadata": {},
   "outputs": [],
   "source": [
    "def read_data_re():\n",
    "    data = []\n",
    "    base_url = \"/Users/malharbhide/Documents/nash/psykose/patient/\"\n",
    "    \n",
    "    for i in range(1, 23):\n",
    "        temp_df = pd.read_csv(base_url + \"patient_\" + str(i) + \".csv\")\n",
    "        for j in list(temp_df[\"date\"].unique()):\n",
    "            if (len(temp_df[temp_df[\"date\"] == j]) != 1440):\n",
    "                continue\n",
    "            temp_df_02 = temp_df[temp_df[\"date\"] == j]\n",
    "            max_activity = float(max(temp_df_02[\"activity\"]))\n",
    "            temp_02 = []\n",
    "            for k in list(temp_df_02[\"activity\"]):\n",
    "                if max_activity != 0:\n",
    "                    temp_02.append([(float(k)/max_activity) * 1000])\n",
    "                else:\n",
    "                    temp_02.append([0])\n",
    "            data.append(temp_02)\n",
    "\n",
    "    return data"
   ]
  },
  {
   "cell_type": "code",
   "execution_count": 15,
   "id": "5fb44853",
   "metadata": {},
   "outputs": [],
   "source": [
    "def read_data_control(data):\n",
    "    base_url = \"/Users/malharbhide/Documents/nash/psykose/control/\"\n",
    "    \n",
    "    for i in range(1,33):\n",
    "        temp_df = pd.read_csv(base_url + \"control_\" + str(i) + \".csv\")\n",
    "        for j in list(temp_df[\"date\"].unique()):\n",
    "            if (len(temp_df[temp_df[\"date\"] == j]) != 1440):\n",
    "                continue\n",
    "            temp_df_02 = temp_df[temp_df[\"date\"] == j]\n",
    "            max_activity = float(max(temp_df_02[\"activity\"]))\n",
    "            temp_02 = []\n",
    "            for k in list(temp_df_02[\"activity\"]):\n",
    "                if max_activity != 0:\n",
    "                    temp_02.append([(float(k)/max_activity) * 1000])\n",
    "                else:\n",
    "                    temp_02.append([0])\n",
    "            data.append(temp_02)\n",
    "    \n",
    "    return data"
   ]
  },
  {
   "cell_type": "code",
   "execution_count": 16,
   "id": "e27e5865",
   "metadata": {},
   "outputs": [],
   "source": [
    "data = read_data_re()"
   ]
  },
  {
   "cell_type": "code",
   "execution_count": 17,
   "id": "3cb561ab",
   "metadata": {},
   "outputs": [],
   "source": [
    "data = read_data_control(data)"
   ]
  },
  {
   "cell_type": "code",
   "execution_count": 18,
   "id": "12dd48eb",
   "metadata": {},
   "outputs": [
    {
     "data": {
      "text/plain": [
       "1010"
      ]
     },
     "execution_count": 18,
     "metadata": {},
     "output_type": "execute_result"
    }
   ],
   "source": [
    "len(data)"
   ]
  },
  {
   "cell_type": "code",
   "execution_count": 19,
   "id": "2e0289a6",
   "metadata": {},
   "outputs": [],
   "source": [
    "y = [1] * 340 + [0] * (len(data) - 340)"
   ]
  },
  {
   "cell_type": "code",
   "execution_count": 20,
   "id": "01a60a76",
   "metadata": {},
   "outputs": [
    {
     "data": {
      "text/plain": [
       "1010"
      ]
     },
     "execution_count": 20,
     "metadata": {},
     "output_type": "execute_result"
    }
   ],
   "source": [
    "len(y)"
   ]
  },
  {
   "cell_type": "code",
   "execution_count": 26,
   "id": "9459b14f",
   "metadata": {},
   "outputs": [
    {
     "data": {
      "text/plain": [
       "(1010, 1440, 1)"
      ]
     },
     "execution_count": 26,
     "metadata": {},
     "output_type": "execute_result"
    }
   ],
   "source": [
    "data.shape"
   ]
  },
  {
   "cell_type": "code",
   "execution_count": 22,
   "id": "2c385fc4",
   "metadata": {},
   "outputs": [],
   "source": [
    "data = np.array(data)"
   ]
  },
  {
   "cell_type": "code",
   "execution_count": 23,
   "id": "13a755bb",
   "metadata": {},
   "outputs": [
    {
     "data": {
      "text/plain": [
       "array([[0.],\n",
       "       [0.],\n",
       "       [0.],\n",
       "       ...,\n",
       "       [0.],\n",
       "       [0.],\n",
       "       [0.]])"
      ]
     },
     "execution_count": 23,
     "metadata": {},
     "output_type": "execute_result"
    }
   ],
   "source": [
    "data[0]"
   ]
  },
  {
   "cell_type": "code",
   "execution_count": 27,
   "id": "5087156c",
   "metadata": {},
   "outputs": [],
   "source": [
    "y = np.array(y)"
   ]
  },
  {
   "cell_type": "code",
   "execution_count": 28,
   "id": "f94343a9",
   "metadata": {},
   "outputs": [],
   "source": [
    "from sklearn.model_selection import train_test_split\n",
    "from sklearn.preprocessing import StandardScaler"
   ]
  },
  {
   "cell_type": "code",
   "execution_count": 29,
   "id": "427b2d47",
   "metadata": {},
   "outputs": [],
   "source": [
    "X_train, X_test, y_train, y_test = train_test_split(data, y, test_size = 0.15)"
   ]
  },
  {
   "cell_type": "code",
   "execution_count": 30,
   "id": "5c2cc1b3",
   "metadata": {},
   "outputs": [],
   "source": [
    "X_train = np.array(X_train)\n",
    "X_test = np.array(X_test)\n",
    "y_train = np.array(y_train)\n",
    "y_test = np.array(y_test)"
   ]
  },
  {
   "cell_type": "code",
   "execution_count": 32,
   "id": "3c466f33",
   "metadata": {},
   "outputs": [
    {
     "name": "stdout",
     "output_type": "stream",
     "text": [
      "Epoch 1/15\n",
      "27/27 [==============================] - 20s 702ms/step - loss: 0.6385 - accuracy: 0.6434\n",
      "Epoch 2/15\n",
      "27/27 [==============================] - 19s 698ms/step - loss: 0.6175 - accuracy: 0.6643\n",
      "Epoch 3/15\n",
      "27/27 [==============================] - 21s 781ms/step - loss: 0.5945 - accuracy: 0.6737\n",
      "Epoch 4/15\n",
      "27/27 [==============================] - 19s 697ms/step - loss: 0.5983 - accuracy: 0.6678\n",
      "Epoch 5/15\n",
      "27/27 [==============================] - 19s 696ms/step - loss: 0.5875 - accuracy: 0.6760\n",
      "Epoch 6/15\n",
      "27/27 [==============================] - 19s 708ms/step - loss: 0.5873 - accuracy: 0.6807\n",
      "Epoch 7/15\n",
      "27/27 [==============================] - 19s 709ms/step - loss: 0.5855 - accuracy: 0.6911\n",
      "Epoch 8/15\n",
      "27/27 [==============================] - 19s 714ms/step - loss: 0.5751 - accuracy: 0.7179\n",
      "Epoch 9/15\n",
      "27/27 [==============================] - 19s 711ms/step - loss: 0.5784 - accuracy: 0.6911\n",
      "Epoch 10/15\n",
      "27/27 [==============================] - 19s 714ms/step - loss: 0.5716 - accuracy: 0.7110\n",
      "Epoch 11/15\n",
      "27/27 [==============================] - 19s 713ms/step - loss: 0.5498 - accuracy: 0.7378\n",
      "Epoch 12/15\n",
      "27/27 [==============================] - 19s 711ms/step - loss: 0.5551 - accuracy: 0.7226\n",
      "Epoch 13/15\n",
      "27/27 [==============================] - 19s 704ms/step - loss: 0.5260 - accuracy: 0.7436\n",
      "Epoch 14/15\n",
      "27/27 [==============================] - 19s 715ms/step - loss: 0.5377 - accuracy: 0.7541\n",
      "Epoch 15/15\n",
      "27/27 [==============================] - 19s 715ms/step - loss: 0.5214 - accuracy: 0.7529\n"
     ]
    },
    {
     "data": {
      "text/plain": [
       "<keras.callbacks.History at 0x7f8a4148abb0>"
      ]
     },
     "execution_count": 32,
     "metadata": {},
     "output_type": "execute_result"
    }
   ],
   "source": [
    "model.fit(x = X_train, y = y_train, epochs = 15)"
   ]
  },
  {
   "cell_type": "code",
   "execution_count": 33,
   "id": "db9138c8",
   "metadata": {},
   "outputs": [
    {
     "name": "stdout",
     "output_type": "stream",
     "text": [
      "5/5 [==============================] - 2s 260ms/step\n"
     ]
    }
   ],
   "source": [
    "predictions = model.predict(X_test)"
   ]
  },
  {
   "cell_type": "code",
   "execution_count": 34,
   "id": "e12fb4e5",
   "metadata": {},
   "outputs": [
    {
     "data": {
      "text/plain": [
       "array([[0.05166823],\n",
       "       [0.6725411 ],\n",
       "       [0.7358366 ],\n",
       "       [0.06921265],\n",
       "       [0.14109239],\n",
       "       [0.66432816],\n",
       "       [0.10781913],\n",
       "       [0.17919116],\n",
       "       [0.2268549 ],\n",
       "       [0.14656764],\n",
       "       [0.18740013],\n",
       "       [0.26955697],\n",
       "       [0.53916854],\n",
       "       [0.2268549 ],\n",
       "       [0.0619536 ],\n",
       "       [0.1671382 ],\n",
       "       [0.2268549 ],\n",
       "       [0.11306789],\n",
       "       [0.5057751 ],\n",
       "       [0.07105612],\n",
       "       [0.22529633],\n",
       "       [0.366704  ],\n",
       "       [0.04422987],\n",
       "       [0.67085   ],\n",
       "       [0.20732222],\n",
       "       [0.35102668],\n",
       "       [0.23274817],\n",
       "       [0.6649563 ],\n",
       "       [0.30333146],\n",
       "       [0.01236434],\n",
       "       [0.09925551],\n",
       "       [0.67675996],\n",
       "       [0.2268549 ],\n",
       "       [0.6850789 ],\n",
       "       [0.2773549 ],\n",
       "       [0.66736317],\n",
       "       [0.7953896 ],\n",
       "       [0.08843479],\n",
       "       [0.198839  ],\n",
       "       [0.24629287],\n",
       "       [0.68659693],\n",
       "       [0.04643876],\n",
       "       [0.20100673],\n",
       "       [0.18581441],\n",
       "       [0.24690682],\n",
       "       [0.7889728 ],\n",
       "       [0.6649841 ],\n",
       "       [0.6654021 ],\n",
       "       [0.33274713],\n",
       "       [0.31189874],\n",
       "       [0.22685486],\n",
       "       [0.24053183],\n",
       "       [0.6671353 ],\n",
       "       [0.6643476 ],\n",
       "       [0.2487986 ],\n",
       "       [0.3218614 ],\n",
       "       [0.6703718 ],\n",
       "       [0.2268549 ],\n",
       "       [0.15745012],\n",
       "       [0.7012969 ],\n",
       "       [0.18092254],\n",
       "       [0.098102  ],\n",
       "       [0.2268549 ],\n",
       "       [0.117403  ],\n",
       "       [0.11329874],\n",
       "       [0.10703968],\n",
       "       [0.33977625],\n",
       "       [0.05951595],\n",
       "       [0.32116294],\n",
       "       [0.16554639],\n",
       "       [0.2268549 ],\n",
       "       [0.01488028],\n",
       "       [0.6644127 ],\n",
       "       [0.35365295],\n",
       "       [0.08462063],\n",
       "       [0.6742132 ],\n",
       "       [0.06381376],\n",
       "       [0.0363065 ],\n",
       "       [0.66433537],\n",
       "       [0.13985398],\n",
       "       [0.2900285 ],\n",
       "       [0.19267073],\n",
       "       [0.07182036],\n",
       "       [0.22685498],\n",
       "       [0.3197142 ],\n",
       "       [0.09721454],\n",
       "       [0.80976766],\n",
       "       [0.51865256],\n",
       "       [0.215457  ],\n",
       "       [0.23760228],\n",
       "       [0.22685489],\n",
       "       [0.67744094],\n",
       "       [0.2269017 ],\n",
       "       [0.19643888],\n",
       "       [0.690817  ],\n",
       "       [0.3724319 ],\n",
       "       [0.2268549 ],\n",
       "       [0.04067537],\n",
       "       [0.33586302],\n",
       "       [0.22253439],\n",
       "       [0.2268549 ],\n",
       "       [0.09401814],\n",
       "       [0.68987656],\n",
       "       [0.2268549 ],\n",
       "       [0.6667856 ],\n",
       "       [0.03037868],\n",
       "       [0.2268549 ],\n",
       "       [0.10604858],\n",
       "       [0.2268549 ],\n",
       "       [0.2268549 ],\n",
       "       [0.66432816],\n",
       "       [0.18517798],\n",
       "       [0.23556085],\n",
       "       [0.6993676 ],\n",
       "       [0.22399005],\n",
       "       [0.73340887],\n",
       "       [0.8337348 ],\n",
       "       [0.66506165],\n",
       "       [0.0344945 ],\n",
       "       [0.66477185],\n",
       "       [0.07950462],\n",
       "       [0.02418653],\n",
       "       [0.3077223 ],\n",
       "       [0.41597667],\n",
       "       [0.66433054],\n",
       "       [0.08294285],\n",
       "       [0.22685486],\n",
       "       [0.69911796],\n",
       "       [0.2268549 ],\n",
       "       [0.1078448 ],\n",
       "       [0.17151196],\n",
       "       [0.17041864],\n",
       "       [0.2510472 ],\n",
       "       [0.2268549 ],\n",
       "       [0.2268549 ],\n",
       "       [0.22685122],\n",
       "       [0.2268549 ],\n",
       "       [0.11839717],\n",
       "       [0.3702014 ],\n",
       "       [0.2268549 ],\n",
       "       [0.2268549 ],\n",
       "       [0.06810172],\n",
       "       [0.3767163 ],\n",
       "       [0.3168326 ],\n",
       "       [0.67928267],\n",
       "       [0.30495653],\n",
       "       [0.67109466],\n",
       "       [0.20961343],\n",
       "       [0.08282959],\n",
       "       [0.350576  ],\n",
       "       [0.66430616],\n",
       "       [0.2184682 ]], dtype=float32)"
      ]
     },
     "execution_count": 34,
     "metadata": {},
     "output_type": "execute_result"
    }
   ],
   "source": [
    "predictions"
   ]
  },
  {
   "cell_type": "code",
   "execution_count": 35,
   "id": "28e49628",
   "metadata": {},
   "outputs": [],
   "source": [
    "predictions_class = predictions.copy()"
   ]
  },
  {
   "cell_type": "code",
   "execution_count": 40,
   "id": "fd8211bb",
   "metadata": {},
   "outputs": [],
   "source": [
    "preds = []\n",
    "for i in predictions_class:\n",
    "    if i[0] > 0.5:\n",
    "        preds.append(1)\n",
    "    else:\n",
    "        preds.append(0)"
   ]
  },
  {
   "cell_type": "code",
   "execution_count": 41,
   "id": "14b69c04",
   "metadata": {},
   "outputs": [
    {
     "data": {
      "text/plain": [
       "[0,\n",
       " 1,\n",
       " 1,\n",
       " 0,\n",
       " 0,\n",
       " 1,\n",
       " 0,\n",
       " 0,\n",
       " 0,\n",
       " 0,\n",
       " 0,\n",
       " 0,\n",
       " 1,\n",
       " 0,\n",
       " 0,\n",
       " 0,\n",
       " 0,\n",
       " 0,\n",
       " 1,\n",
       " 0,\n",
       " 0,\n",
       " 0,\n",
       " 0,\n",
       " 1,\n",
       " 0,\n",
       " 0,\n",
       " 0,\n",
       " 1,\n",
       " 0,\n",
       " 0,\n",
       " 0,\n",
       " 1,\n",
       " 0,\n",
       " 1,\n",
       " 0,\n",
       " 1,\n",
       " 1,\n",
       " 0,\n",
       " 0,\n",
       " 0,\n",
       " 1,\n",
       " 0,\n",
       " 0,\n",
       " 0,\n",
       " 0,\n",
       " 1,\n",
       " 1,\n",
       " 1,\n",
       " 0,\n",
       " 0,\n",
       " 0,\n",
       " 0,\n",
       " 1,\n",
       " 1,\n",
       " 0,\n",
       " 0,\n",
       " 1,\n",
       " 0,\n",
       " 0,\n",
       " 1,\n",
       " 0,\n",
       " 0,\n",
       " 0,\n",
       " 0,\n",
       " 0,\n",
       " 0,\n",
       " 0,\n",
       " 0,\n",
       " 0,\n",
       " 0,\n",
       " 0,\n",
       " 0,\n",
       " 1,\n",
       " 0,\n",
       " 0,\n",
       " 1,\n",
       " 0,\n",
       " 0,\n",
       " 1,\n",
       " 0,\n",
       " 0,\n",
       " 0,\n",
       " 0,\n",
       " 0,\n",
       " 0,\n",
       " 0,\n",
       " 1,\n",
       " 1,\n",
       " 0,\n",
       " 0,\n",
       " 0,\n",
       " 1,\n",
       " 0,\n",
       " 0,\n",
       " 1,\n",
       " 0,\n",
       " 0,\n",
       " 0,\n",
       " 0,\n",
       " 0,\n",
       " 0,\n",
       " 0,\n",
       " 1,\n",
       " 0,\n",
       " 1,\n",
       " 0,\n",
       " 0,\n",
       " 0,\n",
       " 0,\n",
       " 0,\n",
       " 1,\n",
       " 0,\n",
       " 0,\n",
       " 1,\n",
       " 0,\n",
       " 1,\n",
       " 1,\n",
       " 1,\n",
       " 0,\n",
       " 1,\n",
       " 0,\n",
       " 0,\n",
       " 0,\n",
       " 0,\n",
       " 1,\n",
       " 0,\n",
       " 0,\n",
       " 1,\n",
       " 0,\n",
       " 0,\n",
       " 0,\n",
       " 0,\n",
       " 0,\n",
       " 0,\n",
       " 0,\n",
       " 0,\n",
       " 0,\n",
       " 0,\n",
       " 0,\n",
       " 0,\n",
       " 0,\n",
       " 0,\n",
       " 0,\n",
       " 0,\n",
       " 1,\n",
       " 0,\n",
       " 1,\n",
       " 0,\n",
       " 0,\n",
       " 0,\n",
       " 1,\n",
       " 0]"
      ]
     },
     "execution_count": 41,
     "metadata": {},
     "output_type": "execute_result"
    }
   ],
   "source": [
    "preds"
   ]
  },
  {
   "cell_type": "code",
   "execution_count": 42,
   "id": "5bf5c4bc",
   "metadata": {},
   "outputs": [],
   "source": [
    "from sklearn.metrics import accuracy_score"
   ]
  },
  {
   "cell_type": "code",
   "execution_count": 43,
   "id": "97afcec9",
   "metadata": {},
   "outputs": [
    {
     "data": {
      "text/plain": [
       "0.8223684210526315"
      ]
     },
     "execution_count": 43,
     "metadata": {},
     "output_type": "execute_result"
    }
   ],
   "source": [
    "accuracy_score(y_test, np.array(preds))"
   ]
  },
  {
   "cell_type": "code",
   "execution_count": 432,
   "id": "5d96467f",
   "metadata": {},
   "outputs": [
    {
     "data": {
      "text/plain": [
       "array([0, 0, 0, 0, 0, 0, 0, 0, 0, 0, 0, 0, 0, 0, 0, 0, 0, 0, 0, 0, 0, 0,\n",
       "       0, 0, 0, 0, 0, 0, 0, 0, 0, 0, 0, 0, 0, 0, 0, 0, 0, 0, 0, 0, 0, 0,\n",
       "       0, 0, 0, 0, 0, 0, 0, 0, 0, 0, 0, 0, 0, 0, 0, 0, 0, 0, 0, 0, 0, 0,\n",
       "       0, 0, 0, 0, 0, 0, 0, 0, 0, 0, 0, 0, 0, 0, 0, 0, 0, 0, 0, 0, 0, 0,\n",
       "       0, 0, 0, 0, 0, 0, 0, 0, 0, 0, 0, 0, 0, 0, 0, 0, 0, 0, 0, 0, 0, 0,\n",
       "       0, 0, 0, 0, 0, 0, 0, 0, 0, 0, 0, 0, 0, 0, 0, 0, 0, 0, 0, 0, 0, 0,\n",
       "       0, 0, 0, 0, 0, 0, 0, 0, 0, 0, 0, 0, 0, 0, 0, 0, 0, 0, 0, 0])"
      ]
     },
     "execution_count": 432,
     "metadata": {},
     "output_type": "execute_result"
    }
   ],
   "source": [
    "np.argmax(predictions, axis = 1)"
   ]
  },
  {
   "cell_type": "code",
   "execution_count": 300,
   "id": "2bd092dc",
   "metadata": {},
   "outputs": [
    {
     "name": "stdout",
     "output_type": "stream",
     "text": [
      "Collecting coremltools\n",
      "  Downloading coremltools-6.2-cp39-none-macosx_10_15_x86_64.whl (1.9 MB)\n",
      "\u001b[K     |████████████████████████████████| 1.9 MB 1.3 MB/s eta 0:00:01\n",
      "\u001b[?25hRequirement already satisfied: packaging in /Users/malharbhide/opt/anaconda3/lib/python3.9/site-packages (from coremltools) (21.3)\n",
      "Requirement already satisfied: protobuf<=4.0.0,>=3.1.0 in /Users/malharbhide/opt/anaconda3/lib/python3.9/site-packages (from coremltools) (3.20.1)\n",
      "Requirement already satisfied: numpy>=1.14.5 in /Users/malharbhide/opt/anaconda3/lib/python3.9/site-packages (from coremltools) (1.21.5)\n",
      "Requirement already satisfied: tqdm in /Users/malharbhide/opt/anaconda3/lib/python3.9/site-packages (from coremltools) (4.64.0)\n",
      "Requirement already satisfied: sympy in /Users/malharbhide/opt/anaconda3/lib/python3.9/site-packages (from coremltools) (1.10.1)\n",
      "Requirement already satisfied: pyparsing!=3.0.5,>=2.0.2 in /Users/malharbhide/opt/anaconda3/lib/python3.9/site-packages (from packaging->coremltools) (3.0.4)\n",
      "Requirement already satisfied: mpmath>=0.19 in /Users/malharbhide/opt/anaconda3/lib/python3.9/site-packages (from sympy->coremltools) (1.2.1)\n",
      "Installing collected packages: coremltools\n",
      "Successfully installed coremltools-6.2\n"
     ]
    }
   ],
   "source": [
    "!pip install coremltools"
   ]
  },
  {
   "cell_type": "code",
   "execution_count": 44,
   "id": "c3ff9d64",
   "metadata": {},
   "outputs": [],
   "source": [
    "#SAVING MODEL\n",
    "model.save(\"lstm.h5\")"
   ]
  },
  {
   "cell_type": "code",
   "execution_count": 47,
   "id": "017705b6",
   "metadata": {},
   "outputs": [],
   "source": [
    "import coremltools as ct"
   ]
  },
  {
   "cell_type": "code",
   "execution_count": 50,
   "id": "5e0dfb3e",
   "metadata": {},
   "outputs": [
    {
     "name": "stderr",
     "output_type": "stream",
     "text": [
      "2023-02-25 23:57:05.475273: I tensorflow/core/grappler/devices.cc:75] Number of eligible GPUs (core count >= 8, compute capability >= 0.0): 0 (Note: TensorFlow was not compiled with CUDA or ROCm support)\n",
      "2023-02-25 23:57:05.526045: I tensorflow/core/grappler/devices.cc:75] Number of eligible GPUs (core count >= 8, compute capability >= 0.0): 0 (Note: TensorFlow was not compiled with CUDA or ROCm support)\n",
      "2023-02-25 23:57:05.656916: I tensorflow/core/grappler/devices.cc:75] Number of eligible GPUs (core count >= 8, compute capability >= 0.0): 0 (Note: TensorFlow was not compiled with CUDA or ROCm support)\n",
      "2023-02-25 23:57:05.708947: I tensorflow/core/grappler/devices.cc:75] Number of eligible GPUs (core count >= 8, compute capability >= 0.0): 0 (Note: TensorFlow was not compiled with CUDA or ROCm support)\n",
      "Running TensorFlow Graph Passes: 100%|███████| 6/6 [00:00<00:00, 13.59 passes/s]\n",
      "Converting TF Frontend ==> MIL Ops:   0%|              | 0/57 [00:00<?, ? ops/s]Saving value type of int64 into a builtin type of int32, might lose precision!\n",
      "\n",
      "Converting TF Frontend ==> MIL Ops: 100%|██| 14/14 [00:00<00:00, 49974.69 ops/s]\u001b[A\n",
      "\n",
      "Converting TF Frontend ==> MIL Ops:   0%|              | 0/41 [00:00<?, ? ops/s]\u001b[AInput ls elem type unknown. Override with <class 'coremltools.converters.mil.mil.types.type_tensor.tensor.<locals>.tensor'>\n",
      "Converting TF Frontend ==> MIL Ops: 100%|██| 41/41 [00:00<00:00, 12464.95 ops/s]\n",
      "\n",
      "Converting TF Frontend ==> MIL Ops: 100%|██| 14/14 [00:00<00:00, 29989.92 ops/s]\u001b[A\n",
      "\n",
      "Converting TF Frontend ==> MIL Ops:   0%|              | 0/41 [00:00<?, ? ops/s]\u001b[AInput ls elem type unknown. Override with <class 'coremltools.converters.mil.mil.types.type_tensor.tensor.<locals>.tensor'>\n",
      "Converting TF Frontend ==> MIL Ops: 100%|██| 41/41 [00:00<00:00, 10798.52 ops/s]\n",
      "Saving value type of int64 into a builtin type of int32, might lose precision!\n",
      "Converting TF Frontend ==> MIL Ops: 100%|███| 57/57 [00:00<00:00, 2245.15 ops/s]\n",
      "Running MIL Common passes: 100%|█████████| 40/40 [00:00<00:00, 1444.10 passes/s]\n",
      "Running MIL Clean up passes: 100%|███████| 11/11 [00:00<00:00, 2240.76 passes/s]\n",
      "Translating MIL ==> NeuralNetwork Ops:   0%|           | 0/57 [00:00<?, ? ops/s]\n",
      "Translating MIL ==> NeuralNetwork Ops: 100%|██| 1/1 [00:00<00:00, 5849.80 ops/s]\u001b[A\n",
      "\n",
      "Translating MIL ==> NeuralNetwork Ops: 100%|█| 25/25 [00:00<00:00, 2586.39 ops/s\u001b[A\n",
      "Translating MIL ==> NeuralNetwork Ops: 100%|█| 57/57 [00:00<00:00, 3092.62 ops/s\n"
     ]
    }
   ],
   "source": [
    "testmodel = ct.convert(model)"
   ]
  },
  {
   "cell_type": "code",
   "execution_count": 51,
   "id": "61c700c5",
   "metadata": {},
   "outputs": [],
   "source": [
    "testmodel.save(\"model.mlmodel\")"
   ]
  },
  {
   "cell_type": "code",
   "execution_count": null,
   "id": "486b1c1c",
   "metadata": {},
   "outputs": [],
   "source": []
  }
 ],
 "metadata": {
  "kernelspec": {
   "display_name": "Python 3 (ipykernel)",
   "language": "python",
   "name": "python3"
  },
  "language_info": {
   "codemirror_mode": {
    "name": "ipython",
    "version": 3
   },
   "file_extension": ".py",
   "mimetype": "text/x-python",
   "name": "python",
   "nbconvert_exporter": "python",
   "pygments_lexer": "ipython3",
   "version": "3.9.12"
  }
 },
 "nbformat": 4,
 "nbformat_minor": 5
}
